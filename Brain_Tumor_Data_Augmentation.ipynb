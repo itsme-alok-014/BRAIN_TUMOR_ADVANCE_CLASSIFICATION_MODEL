{
 "cells": [
  {
   "cell_type": "markdown",
   "id": "e6787822-be66-459a-b89e-8876855ea509",
   "metadata": {},
   "source": [
    "# Data Augmentation"
   ]
  },
  {
   "cell_type": "markdown",
   "id": "6fa85648-e947-48f8-beb2-83b4a4d6c126",
   "metadata": {},
   "source": [
    "**Imports and Setup**"
   ]
  },
  {
   "cell_type": "code",
   "execution_count": 2,
   "id": "54865f5a-166f-43d9-96b5-bd92f272f958",
   "metadata": {},
   "outputs": [],
   "source": [
    "# SECTION 1: Imports and Setup\n",
    "\n",
    "import tensorflow as tf\n",
    "from tensorflow.keras.preprocessing.image import ImageDataGenerator\n",
    "import cv2\n",
    "import matplotlib.pyplot as plt\n",
    "from os import listdir\n",
    "import os\n",
    "import time\n",
    "\n",
    "%matplotlib inline\n"
   ]
  },
  {
   "cell_type": "code",
   "execution_count": 3,
   "id": "3234a258-0dcc-40ed-9883-9d49f19c7185",
   "metadata": {},
   "outputs": [],
   "source": [
    "# SECTION 2: Time Formatter Utility\n",
    "\n",
    "def hms_string(sec_elapsed):\n",
    "    h = int(sec_elapsed / (60 * 60))\n",
    "    m = int((sec_elapsed % (60 * 60)) / 60)\n",
    "    s = sec_elapsed % 60\n",
    "    return f\"{h}:{m}:{round(s,1)}\"\n"
   ]
  },
  {
   "cell_type": "code",
   "execution_count": 4,
   "id": "09882c48-a4e5-4450-a56b-7da57e89cf4c",
   "metadata": {},
   "outputs": [],
   "source": [
    "# SECTION 3: Data Augmentation Function\n",
    "\n",
    "def augment_data(file_dir, n_generated_samples, save_to_dir):\n",
    "    data_gen = ImageDataGenerator(\n",
    "        rotation_range=10, \n",
    "        width_shift_range=0.1, \n",
    "        height_shift_range=0.1, \n",
    "        shear_range=0.1, \n",
    "        brightness_range=(0.3, 1.0),\n",
    "        horizontal_flip=True, \n",
    "        vertical_flip=True, \n",
    "        fill_mode='nearest'\n",
    "    )\n",
    "    \n",
    "    for filename in listdir(file_dir):\n",
    "        image_path = os.path.join(file_dir, filename)\n",
    "        image = cv2.imread(image_path)\n",
    "        \n",
    "        if image is None:\n",
    "            print(f\"Warning: Unable to read {filename}\")\n",
    "            continue\n",
    "        \n",
    "        image = image.reshape((1,)+image.shape)\n",
    "        save_prefix = 'aug_' + filename[:-4]\n",
    "        \n",
    "        i = 0\n",
    "        for batch in data_gen.flow(\n",
    "            x=image, batch_size=1, save_to_dir=save_to_dir, \n",
    "            save_prefix=save_prefix, save_format='jpg'):\n",
    "            i += 1\n",
    "            if i > n_generated_samples:\n",
    "                break\n"
   ]
  },
  {
   "cell_type": "code",
   "execution_count": 5,
   "id": "2e9f723a-9278-46b5-baf0-ba99cc825d39",
   "metadata": {},
   "outputs": [],
   "source": [
    "# SECTION 4: Dataset Summary Function\n",
    "\n",
    "def data_summary(main_path):\n",
    "    classes = os.listdir(main_path)\n",
    "    total_images = 0\n",
    "\n",
    "    print(f\"Classes found: {len(classes)}\")\n",
    "    \n",
    "    for class_name in classes:\n",
    "        class_path = os.path.join(main_path, class_name)\n",
    "        if os.path.isdir(class_path):\n",
    "            num_images = len(listdir(class_path))\n",
    "            total_images += num_images\n",
    "            print(f\"Class: {class_name}, Number of examples: {num_images}\")\n",
    "    \n",
    "    print(f\"Total number of images: {total_images}\")\n",
    "    \n",
    "    for class_name in classes:\n",
    "        class_path = os.path.join(main_path, class_name)\n",
    "        if os.path.isdir(class_path):\n",
    "            num_images = len(listdir(class_path))\n",
    "            percentage = (num_images * 100.0) / total_images\n",
    "            print(f\"Percentage of {class_name} examples: {percentage:.2f}%\")\n"
   ]
  },
  {
   "cell_type": "code",
   "execution_count": 9,
   "id": "7fbb1ea4-e585-4e1f-a304-7454731b47c7",
   "metadata": {},
   "outputs": [],
   "source": [
    "# SECTION 5: Paths and Class Augmentation Mapping\n",
    "\n",
    "original_dataset_path = \"./brain_tumor_dataset_multiclass\"\n",
    "augmented_dataset_path = \"./Augmented_Dataset_Multiclass\"\n",
    "\n",
    "# Ensure output folder exists\n",
    "os.makedirs(augmented_dataset_path, exist_ok=True)\n",
    "\n",
    "# Augmentation factors based on class imbalance\n",
    "classes = {\n",
    "    \"glioma\": 0,\n",
    "    \"meningioma\": 0,\n",
    "    \"pituitary\": 0,\n",
    "    \"no_tumor\": 0\n",
    "}\n"
   ]
  },
  {
   "cell_type": "code",
   "execution_count": 10,
   "id": "977ccf5f-4498-47df-b0df-dc9859d2e5a5",
   "metadata": {},
   "outputs": [
    {
     "name": "stdout",
     "output_type": "stream",
     "text": [
      "\n",
      "Processing glioma class...\n",
      "\n",
      "Processing meningioma class...\n",
      "\n",
      "Processing pituitary class...\n",
      "\n",
      "Processing no_tumor class...\n",
      "\n",
      "Elapsed time: 0:15:13.8\n"
     ]
    }
   ],
   "source": [
    "# SECTION 6: Dataset Augmentation Process\n",
    "\n",
    "start_time = time.time()\n",
    "\n",
    "for class_name, aug_factor in classes.items():\n",
    "    print(f\"\\nProcessing {class_name} class...\")\n",
    "    \n",
    "    class_input_dir = os.path.join(original_dataset_path, class_name)\n",
    "    class_output_dir = os.path.join(augmented_dataset_path, class_name)\n",
    "    os.makedirs(class_output_dir, exist_ok=True)\n",
    "    \n",
    "    if os.path.exists(class_input_dir) and os.path.isdir(class_input_dir):\n",
    "        # Copy original files to output dir\n",
    "        for img_file in listdir(class_input_dir):\n",
    "            img_path = os.path.join(class_input_dir, img_file)\n",
    "            if os.path.isfile(img_path):\n",
    "                img = cv2.imread(img_path)\n",
    "                if img is not None:\n",
    "                    cv2.imwrite(os.path.join(class_output_dir, img_file), img)\n",
    "        \n",
    "        # Perform augmentation\n",
    "        augment_data(file_dir=class_input_dir, \n",
    "                     n_generated_samples=aug_factor, \n",
    "                     save_to_dir=class_output_dir)\n",
    "    else:\n",
    "        print(f\"Warning: {class_input_dir} not found or not a directory\")\n",
    "\n",
    "end_time = time.time()\n",
    "execution_time = (end_time - start_time)\n",
    "print(f\"\\nElapsed time: {hms_string(execution_time)}\")\n"
   ]
  },
  {
   "cell_type": "code",
   "execution_count": null,
   "id": "5f3f57a7-6a26-4ee2-abd2-7351a84d738c",
   "metadata": {},
   "outputs": [],
   "source": []
  }
 ],
 "metadata": {
  "kernelspec": {
   "display_name": "Python 3 (ipykernel)",
   "language": "python",
   "name": "python3"
  },
  "language_info": {
   "codemirror_mode": {
    "name": "ipython",
    "version": 3
   },
   "file_extension": ".py",
   "mimetype": "text/x-python",
   "name": "python",
   "nbconvert_exporter": "python",
   "pygments_lexer": "ipython3",
   "version": "3.11.9"
  }
 },
 "nbformat": 4,
 "nbformat_minor": 5
}
