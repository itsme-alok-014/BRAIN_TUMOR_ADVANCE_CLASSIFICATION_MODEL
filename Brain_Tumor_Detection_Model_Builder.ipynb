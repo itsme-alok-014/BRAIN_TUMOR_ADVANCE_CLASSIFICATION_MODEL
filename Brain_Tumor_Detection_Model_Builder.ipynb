{
 "cells": [
  {
   "cell_type": "markdown",
   "id": "027378d1-691b-485a-8807-47a52b9ce9be",
   "metadata": {},
   "source": [
    "## Importing Libraries and Dependencies"
   ]
  },
  {
   "cell_type": "code",
   "execution_count": 1,
   "id": "a3675961-826c-430c-abca-38fc2c49133f",
   "metadata": {},
   "outputs": [],
   "source": [
    "# Core Libraries\n",
    "import numpy as np\n",
    "import matplotlib.pyplot as plt\n",
    "import seaborn as sns\n",
    "import time\n",
    "import os\n",
    "from os import listdir\n",
    "\n",
    "# Image Processing\n",
    "import cv2\n",
    "import imutils\n",
    "\n",
    "# Machine Learning Utilities\n",
    "from sklearn.model_selection import train_test_split\n",
    "from sklearn.utils import shuffle\n",
    "from sklearn.metrics import f1_score, confusion_matrix, classification_report\n",
    "\n",
    "# TensorFlow and Keras\n",
    "import tensorflow as tf\n",
    "from tensorflow.keras.layers import (\n",
    "    Conv2D, Input, ZeroPadding2D, BatchNormalization, Activation,\n",
    "    MaxPooling2D, Flatten, Dense, Dropout, GlobalAveragePooling2D\n",
    ")\n",
    "from tensorflow.keras.models import Model\n",
    "from tensorflow.keras.applications import VGG16, ResNet50\n",
    "from tensorflow.keras.callbacks import TensorBoard, ModelCheckpoint, EarlyStopping, ReduceLROnPlateau\n"
   ]
  },
  {
   "cell_type": "markdown",
   "id": "419e4986-c55d-407a-8f10-2f48d831390d",
   "metadata": {},
   "source": [
    "## Preprocessing Functions"
   ]
  },
  {
   "cell_type": "markdown",
   "id": "a7b4b9bc-1e3d-4e2d-906a-c00c38e311a2",
   "metadata": {},
   "source": [
    "### 2.1 Crop Brain Contour"
   ]
  },
  {
   "cell_type": "code",
   "execution_count": 2,
   "id": "8727438d-bb85-4f74-a887-98221ea7e547",
   "metadata": {},
   "outputs": [],
   "source": [
    "def crop_brain_contour(image, plot=False):\n",
    "    gray = cv2.cvtColor(image, cv2.COLOR_BGR2GRAY)\n",
    "    gray = cv2.GaussianBlur(gray, (5, 5), 0)\n",
    "    thresh = cv2.threshold(gray, 45, 255, cv2.THRESH_BINARY)[1]\n",
    "    thresh = cv2.erode(thresh, None, iterations=2)\n",
    "    thresh = cv2.dilate(thresh, None, iterations=2)\n",
    "    cnts = cv2.findContours(thresh.copy(), cv2.RETR_EXTERNAL, cv2.CHAIN_APPROX_SIMPLE)\n",
    "    cnts = imutils.grab_contours(cnts)\n",
    "\n",
    "    if len(cnts) == 0:\n",
    "        return image\n",
    "\n",
    "    c = max(cnts, key=cv2.contourArea)\n",
    "    extLeft = tuple(c[c[:, :, 0].argmin()][0])\n",
    "    extRight = tuple(c[c[:, :, 0].argmax()][0])\n",
    "    extTop = tuple(c[c[:, :, 1].argmin()][0])\n",
    "    extBot = tuple(c[c[:, :, 1].argmax()][0])\n",
    "\n",
    "    new_image = image[extTop[1]:extBot[1], extLeft[0]:extRight[0]]\n",
    "    if plot:\n",
    "        plt.figure(figsize=(12, 6))\n",
    "        plt.subplot(1, 2, 1)\n",
    "        plt.imshow(image)\n",
    "        plt.title('Original Image')\n",
    "        plt.axis('off')\n",
    "        plt.subplot(1, 2, 2)\n",
    "        plt.imshow(new_image)\n",
    "        plt.title('Cropped Image')\n",
    "        plt.axis('off')\n",
    "        plt.show()\n",
    "    return new_image\n"
   ]
  },
  {
   "cell_type": "markdown",
   "id": "7be4ab17-764a-45dc-a52b-432d141bccd4",
   "metadata": {},
   "source": [
    "### 2.2 Load and Preprocess Dataset"
   ]
  },
  {
   "cell_type": "code",
   "execution_count": 3,
   "id": "d64c4b6d-61dd-4302-b6e5-73a4961768ba",
   "metadata": {},
   "outputs": [],
   "source": [
    "def load_data(dir_list, class_list, image_size):\n",
    "    X = []\n",
    "    y = []\n",
    "    for class_index, folder in enumerate(dir_list):\n",
    "        print(f\"Loading images from: {folder}\")\n",
    "        for file in os.listdir(folder):\n",
    "            file_path = os.path.join(folder, file)\n",
    "            try:\n",
    "                img = cv2.imread(file_path)\n",
    "                if img is None:\n",
    "                    continue\n",
    "                img = cv2.resize(img, image_size)\n",
    "                img = img / 255.0  # Normalize\n",
    "                X.append(img.astype(np.float32))  # Convert to float32 to save memory\n",
    "\n",
    "                label = np.zeros(len(class_list), dtype=np.float32)\n",
    "                label[class_index] = 1.0\n",
    "                y.append(label)\n",
    "\n",
    "            except Exception as e:\n",
    "                print(f\"Error loading {file_path}: {e}\")\n",
    "\n",
    "    # Convert lists to arrays with lower precision\n",
    "    X = np.array(X, dtype=np.float32)\n",
    "    y = np.array(y, dtype=np.float32)\n",
    "\n",
    "    # Shuffle data\n",
    "    X, y = shuffle(X, y, random_state=42)\n",
    "\n",
    "    print(f\"Total samples loaded: {len(X)}\")\n",
    "    print(f\"X shape: {X.shape}, y shape: {y.shape}\")\n",
    "    return X, y\n"
   ]
  },
  {
   "cell_type": "markdown",
   "id": "42ae5974-2399-41c9-a9f7-4fd574487fed",
   "metadata": {},
   "source": [
    "### 2.3 Split Dataset"
   ]
  },
  {
   "cell_type": "code",
   "execution_count": 4,
   "id": "9cbfb30e-3a35-4f95-a773-344f2848cc22",
   "metadata": {},
   "outputs": [],
   "source": [
    "def split_data(X, y, test_size=0.2, val_size=0.15):\n",
    "    X_train, X_temp, y_train, y_temp = train_test_split(X, y, test_size=(test_size + val_size))\n",
    "    val_size_adjusted = val_size / (test_size + val_size)\n",
    "    X_val, X_test, y_val, y_test = train_test_split(X_temp, y_temp, test_size=(1 - val_size_adjusted))\n",
    "    return X_train, y_train, X_val, y_val, X_test, y_test\n"
   ]
  },
  {
   "cell_type": "markdown",
   "id": "bb9dd0a1-f1d7-4ec1-a2b3-a23d84b3329e",
   "metadata": {},
   "source": [
    "# Utility Functions"
   ]
  },
  {
   "cell_type": "code",
   "execution_count": 5,
   "id": "e649ad4e-921f-46c8-9547-a5e32371c5a2",
   "metadata": {},
   "outputs": [],
   "source": [
    "def hms_string(sec_elapsed):\n",
    "    h = int(sec_elapsed / (60 * 60))\n",
    "    m = int((sec_elapsed % (60 * 60)) / 60)\n",
    "    s = sec_elapsed % 60\n",
    "    return f\"{h}:{m}:{round(s, 1)}\"\n",
    "\n",
    "def compute_f1_score(y_true, y_pred_prob):\n",
    "    y_pred = np.argmax(y_pred_prob, axis=1)\n",
    "    y_true = np.argmax(y_true, axis=1)\n",
    "    return f1_score(y_true, y_pred, average='macro')\n",
    "\n",
    "def plot_confusion_matrix(y_true, y_pred, classes):\n",
    "    y_true = np.argmax(y_true, axis=1)\n",
    "    y_pred = np.argmax(y_pred, axis=1)\n",
    "    cm = confusion_matrix(y_true, y_pred)\n",
    "    plt.figure(figsize=(10, 8))\n",
    "    sns.heatmap(cm, annot=True, fmt='d', cmap='Blues', xticklabels=classes, yticklabels=classes)\n",
    "    plt.xlabel('Predicted Labels')\n",
    "    plt.ylabel('True Labels')\n",
    "    plt.title('Confusion Matrix')\n",
    "    plt.show()\n",
    "    print(classification_report(y_true, y_pred, target_names=classes))\n"
   ]
  },
  {
   "cell_type": "markdown",
   "id": "97f5cb23-c926-4654-b602-a7e996757baf",
   "metadata": {},
   "source": [
    "# Model Building"
   ]
  },
  {
   "cell_type": "markdown",
   "id": "9bc228f8-afc8-4303-a693-5ecea33072eb",
   "metadata": {},
   "source": [
    "## 4.1 Basic CNN Model"
   ]
  },
  {
   "cell_type": "code",
   "execution_count": 6,
   "id": "99ce2a27-45ff-4087-9e7f-13bb5c27cc7a",
   "metadata": {},
   "outputs": [],
   "source": [
    "def build_basic_cnn_model(input_shape, num_classes):\n",
    "    X_input = Input(input_shape)\n",
    "    X = ZeroPadding2D((2, 2))(X_input)\n",
    "    X = Conv2D(32, (7, 7), strides=(1, 1))(X)\n",
    "    X = BatchNormalization()(X)\n",
    "    X = Activation('relu')(X)\n",
    "    X = MaxPooling2D((4, 4))(X)\n",
    "    X = Conv2D(64, (5, 5), strides=(1, 1))(X)\n",
    "    X = BatchNormalization()(X)\n",
    "    X = Activation('relu')(X)\n",
    "    X = MaxPooling2D((4, 4))(X)\n",
    "    X = Conv2D(128, (3, 3), strides=(1, 1))(X)\n",
    "    X = BatchNormalization()(X)\n",
    "    X = Activation('relu')(X)\n",
    "    X = MaxPooling2D((2, 2))(X)\n",
    "    X = Flatten()(X)\n",
    "    X = Dense(128, activation='relu')(X)\n",
    "    X = Dropout(0.5)(X)\n",
    "    X = Dense(num_classes, activation='softmax')(X)\n",
    "    model = Model(inputs=X_input, outputs=X)\n",
    "    model.compile(optimizer='adam', loss='categorical_crossentropy', metrics=['accuracy'])\n",
    "    return model\n"
   ]
  },
  {
   "cell_type": "markdown",
   "id": "2b3fda7c-4fe2-4fa8-9834-7bf392762aef",
   "metadata": {},
   "source": [
    "## 4.2 Hybrid Model (VGG16 + ResNet50 + Custom CNN)"
   ]
  },
  {
   "cell_type": "code",
   "execution_count": 7,
   "id": "fbe81503-7ee0-4b53-965e-62cfa9c74f25",
   "metadata": {},
   "outputs": [],
   "source": [
    "def build_hybrid_model(input_shape, num_classes):\n",
    "    input_tensor = Input(shape=input_shape)\n",
    "    # VGG16 branch\n",
    "    vgg_model = VGG16(include_top=False, weights='imagenet', input_tensor=input_tensor)\n",
    "    for layer in vgg_model.layers:\n",
    "        layer.trainable = False\n",
    "    vgg_output = GlobalAveragePooling2D()(vgg_model.output)\n",
    "    vgg_output = Dense(512, activation='relu')(vgg_output)\n",
    "\n",
    "    # ResNet50 branch\n",
    "    resnet_model = ResNet50(include_top=False, weights='imagenet', input_tensor=input_tensor)\n",
    "    for layer in resnet_model.layers:\n",
    "        layer.trainable = False\n",
    "    resnet_output = GlobalAveragePooling2D()(resnet_model.output)\n",
    "    resnet_output = Dense(512, activation='relu')(resnet_output)\n",
    "\n",
    "    # Custom CNN branch\n",
    "    X = ZeroPadding2D((2, 2))(input_tensor)\n",
    "    X = Conv2D(32, (7, 7), activation='relu')(X)\n",
    "    X = BatchNormalization()(X)\n",
    "    X = MaxPooling2D((4, 4))(X)\n",
    "    X = Conv2D(64, (5, 5), activation='relu')(X)\n",
    "    X = BatchNormalization()(X)\n",
    "    X = MaxPooling2D((4, 4))(X)\n",
    "    X = Flatten()(X)\n",
    "    custom_output = Dense(512, activation='relu')(X)\n",
    "\n",
    "    # Merge and classifier\n",
    "    merged = tf.keras.layers.concatenate([vgg_output, resnet_output, custom_output])\n",
    "    X = Dense(256, activation='relu')(merged)\n",
    "    X = Dropout(0.5)(X)\n",
    "    X = Dense(num_classes, activation='softmax')(X)\n",
    "    model = Model(inputs=input_tensor, outputs=X)\n",
    "    model.compile(optimizer='adam', loss='categorical_crossentropy', metrics=['accuracy'])\n",
    "    return model\n"
   ]
  },
  {
   "cell_type": "markdown",
   "id": "6bd64ee0-557e-452a-a7db-d32bd39447ee",
   "metadata": {},
   "source": [
    "# Model Training and Evaluation"
   ]
  },
  {
   "cell_type": "markdown",
   "id": "48514b8a-ed25-49a2-9dea-41c9251a251a",
   "metadata": {},
   "source": [
    "## 5.1 Define Paths and Load Dataset"
   ]
  },
  {
   "cell_type": "code",
   "execution_count": 8,
   "id": "f7e8c05c-5878-4f07-909a-d5c1965158fb",
   "metadata": {},
   "outputs": [
    {
     "name": "stdout",
     "output_type": "stream",
     "text": [
      "Loading images from: ./Augmented_Dataset_Multiclass/glioma\n",
      "Loading images from: ./Augmented_Dataset_Multiclass/meningioma\n",
      "Loading images from: ./Augmented_Dataset_Multiclass/pituitary\n",
      "Loading images from: ./Augmented_Dataset_Multiclass/no_tumor\n",
      "Total samples loaded: 8277\n",
      "X shape: (8277, 240, 240, 3), y shape: (8277, 4)\n"
     ]
    }
   ],
   "source": [
    "class_names = [\"glioma\", \"meningioma\", \"pituitary\", \"no_tumor\"]\n",
    "num_classes = len(class_names)\n",
    "IMG_WIDTH, IMG_HEIGHT = 240, 240\n",
    "IMG_SHAPE = (IMG_WIDTH, IMG_HEIGHT, 3)\n",
    "\n",
    "data_path = \"./Augmented_Dataset_Multiclass\"\n",
    "class_dirs = [f\"{data_path}/{cls}\" for cls in class_names]\n",
    "\n",
    "X, y = load_data(class_dirs, class_names, (IMG_WIDTH, IMG_HEIGHT))\n",
    "X_train, y_train, X_val, y_val, X_test, y_test = split_data(X, y, test_size=0.15, val_size=0.15)\n"
   ]
  },
  {
   "cell_type": "markdown",
   "id": "89596f0b-d2ca-41a8-86a3-ec8b66ecb112",
   "metadata": {},
   "source": [
    "## 5.2 Callbacks"
   ]
  },
  {
   "cell_type": "code",
   "execution_count": 9,
   "id": "2ad66e91-68e1-4336-b9cc-8a80b6973c69",
   "metadata": {},
   "outputs": [],
   "source": [
    "def get_callbacks(model_name):\n",
    "    log_dir = f'logs/{model_name}_{int(time.time())}'\n",
    "    return [\n",
    "        TensorBoard(log_dir=log_dir),\n",
    "        ModelCheckpoint(f\"./Brain_Tumor_Classification_Models/{model_name}_best.keras\", save_best_only=True, monitor='val_accuracy'),\n",
    "        EarlyStopping(patience=10, monitor='val_loss', restore_best_weights=True),\n",
    "        ReduceLROnPlateau(patience=5, monitor='val_loss', factor=0.2, min_lr=1e-6)\n",
    "    ]\n"
   ]
  },
  {
   "cell_type": "markdown",
   "id": "b9271593-9d7f-4fab-8ef5-5885eb6bb945",
   "metadata": {},
   "source": [
    "## 5.3 Train CNN Model"
   ]
  },
  {
   "cell_type": "code",
   "execution_count": 10,
   "id": "b6d1cd6f-7081-49b5-8f9e-1a4a45bd4bd7",
   "metadata": {},
   "outputs": [
    {
     "name": "stdout",
     "output_type": "stream",
     "text": [
      "Epoch 1/50\n",
      "\u001b[1m182/182\u001b[0m \u001b[32m━━━━━━━━━━━━━━━━━━━━\u001b[0m\u001b[37m\u001b[0m \u001b[1m235s\u001b[0m 1s/step - accuracy: 0.5704 - loss: 1.2124 - val_accuracy: 0.5942 - val_loss: 0.9194 - learning_rate: 0.0010\n",
      "Epoch 2/50\n",
      "\u001b[1m182/182\u001b[0m \u001b[32m━━━━━━━━━━━━━━━━━━━━\u001b[0m\u001b[37m\u001b[0m \u001b[1m214s\u001b[0m 1s/step - accuracy: 0.7347 - loss: 0.6534 - val_accuracy: 0.6127 - val_loss: 0.7973 - learning_rate: 0.0010\n",
      "Epoch 3/50\n",
      "\u001b[1m182/182\u001b[0m \u001b[32m━━━━━━━━━━━━━━━━━━━━\u001b[0m\u001b[37m\u001b[0m \u001b[1m214s\u001b[0m 1s/step - accuracy: 0.7717 - loss: 0.5628 - val_accuracy: 0.4300 - val_loss: 1.7652 - learning_rate: 0.0010\n",
      "Epoch 4/50\n",
      "\u001b[1m182/182\u001b[0m \u001b[32m━━━━━━━━━━━━━━━━━━━━\u001b[0m\u001b[37m\u001b[0m \u001b[1m213s\u001b[0m 1s/step - accuracy: 0.8139 - loss: 0.4777 - val_accuracy: 0.8245 - val_loss: 0.4275 - learning_rate: 0.0010\n",
      "Epoch 5/50\n",
      "\u001b[1m182/182\u001b[0m \u001b[32m━━━━━━━━━━━━━━━━━━━━\u001b[0m\u001b[37m\u001b[0m \u001b[1m212s\u001b[0m 1s/step - accuracy: 0.8359 - loss: 0.4158 - val_accuracy: 0.5322 - val_loss: 2.4720 - learning_rate: 0.0010\n",
      "Epoch 6/50\n",
      "\u001b[1m182/182\u001b[0m \u001b[32m━━━━━━━━━━━━━━━━━━━━\u001b[0m\u001b[37m\u001b[0m \u001b[1m213s\u001b[0m 1s/step - accuracy: 0.8215 - loss: 0.4630 - val_accuracy: 0.6337 - val_loss: 1.7656 - learning_rate: 0.0010\n",
      "Epoch 7/50\n",
      "\u001b[1m182/182\u001b[0m \u001b[32m━━━━━━━━━━━━━━━━━━━━\u001b[0m\u001b[37m\u001b[0m \u001b[1m214s\u001b[0m 1s/step - accuracy: 0.8359 - loss: 0.3892 - val_accuracy: 0.7955 - val_loss: 0.4880 - learning_rate: 0.0010\n",
      "Epoch 8/50\n",
      "\u001b[1m182/182\u001b[0m \u001b[32m━━━━━━━━━━━━━━━━━━━━\u001b[0m\u001b[37m\u001b[0m \u001b[1m217s\u001b[0m 1s/step - accuracy: 0.8660 - loss: 0.3358 - val_accuracy: 0.6965 - val_loss: 1.3257 - learning_rate: 0.0010\n",
      "Epoch 9/50\n",
      "\u001b[1m182/182\u001b[0m \u001b[32m━━━━━━━━━━━━━━━━━━━━\u001b[0m\u001b[37m\u001b[0m \u001b[1m213s\u001b[0m 1s/step - accuracy: 0.8583 - loss: 0.3477 - val_accuracy: 0.8084 - val_loss: 0.5322 - learning_rate: 0.0010\n",
      "Epoch 10/50\n",
      "\u001b[1m182/182\u001b[0m \u001b[32m━━━━━━━━━━━━━━━━━━━━\u001b[0m\u001b[37m\u001b[0m \u001b[1m213s\u001b[0m 1s/step - accuracy: 0.9013 - loss: 0.2522 - val_accuracy: 0.8937 - val_loss: 0.2766 - learning_rate: 2.0000e-04\n",
      "Epoch 11/50\n",
      "\u001b[1m182/182\u001b[0m \u001b[32m━━━━━━━━━━━━━━━━━━━━\u001b[0m\u001b[37m\u001b[0m \u001b[1m214s\u001b[0m 1s/step - accuracy: 0.9226 - loss: 0.2098 - val_accuracy: 0.8776 - val_loss: 0.3423 - learning_rate: 2.0000e-04\n",
      "Epoch 12/50\n",
      "\u001b[1m182/182\u001b[0m \u001b[32m━━━━━━━━━━━━━━━━━━━━\u001b[0m\u001b[37m\u001b[0m \u001b[1m215s\u001b[0m 1s/step - accuracy: 0.9270 - loss: 0.1900 - val_accuracy: 0.8768 - val_loss: 0.3165 - learning_rate: 2.0000e-04\n",
      "Epoch 13/50\n",
      "\u001b[1m182/182\u001b[0m \u001b[32m━━━━━━━━━━━━━━━━━━━━\u001b[0m\u001b[37m\u001b[0m \u001b[1m214s\u001b[0m 1s/step - accuracy: 0.9267 - loss: 0.1927 - val_accuracy: 0.8889 - val_loss: 0.3158 - learning_rate: 2.0000e-04\n",
      "Epoch 14/50\n",
      "\u001b[1m182/182\u001b[0m \u001b[32m━━━━━━━━━━━━━━━━━━━━\u001b[0m\u001b[37m\u001b[0m \u001b[1m213s\u001b[0m 1s/step - accuracy: 0.9260 - loss: 0.1848 - val_accuracy: 0.8897 - val_loss: 0.3008 - learning_rate: 2.0000e-04\n",
      "Epoch 15/50\n",
      "\u001b[1m182/182\u001b[0m \u001b[32m━━━━━━━━━━━━━━━━━━━━\u001b[0m\u001b[37m\u001b[0m \u001b[1m216s\u001b[0m 1s/step - accuracy: 0.9192 - loss: 0.1856 - val_accuracy: 0.9163 - val_loss: 0.2349 - learning_rate: 2.0000e-04\n",
      "Epoch 16/50\n",
      "\u001b[1m182/182\u001b[0m \u001b[32m━━━━━━━━━━━━━━━━━━━━\u001b[0m\u001b[37m\u001b[0m \u001b[1m213s\u001b[0m 1s/step - accuracy: 0.9451 - loss: 0.1492 - val_accuracy: 0.8269 - val_loss: 0.5566 - learning_rate: 2.0000e-04\n",
      "Epoch 17/50\n",
      "\u001b[1m182/182\u001b[0m \u001b[32m━━━━━━━━━━━━━━━━━━━━\u001b[0m\u001b[37m\u001b[0m \u001b[1m216s\u001b[0m 1s/step - accuracy: 0.9464 - loss: 0.1443 - val_accuracy: 0.9010 - val_loss: 0.2924 - learning_rate: 2.0000e-04\n",
      "Epoch 18/50\n",
      "\u001b[1m182/182\u001b[0m \u001b[32m━━━━━━━━━━━━━━━━━━━━\u001b[0m\u001b[37m\u001b[0m \u001b[1m213s\u001b[0m 1s/step - accuracy: 0.9308 - loss: 0.1710 - val_accuracy: 0.9090 - val_loss: 0.2376 - learning_rate: 2.0000e-04\n",
      "Epoch 19/50\n",
      "\u001b[1m182/182\u001b[0m \u001b[32m━━━━━━━━━━━━━━━━━━━━\u001b[0m\u001b[37m\u001b[0m \u001b[1m213s\u001b[0m 1s/step - accuracy: 0.9506 - loss: 0.1274 - val_accuracy: 0.8744 - val_loss: 0.3373 - learning_rate: 2.0000e-04\n",
      "Epoch 20/50\n",
      "\u001b[1m182/182\u001b[0m \u001b[32m━━━━━━━━━━━━━━━━━━━━\u001b[0m\u001b[37m\u001b[0m \u001b[1m213s\u001b[0m 1s/step - accuracy: 0.9458 - loss: 0.1299 - val_accuracy: 0.9058 - val_loss: 0.2695 - learning_rate: 2.0000e-04\n",
      "Epoch 21/50\n",
      "\u001b[1m182/182\u001b[0m \u001b[32m━━━━━━━━━━━━━━━━━━━━\u001b[0m\u001b[37m\u001b[0m \u001b[1m213s\u001b[0m 1s/step - accuracy: 0.9569 - loss: 0.1094 - val_accuracy: 0.9332 - val_loss: 0.2097 - learning_rate: 4.0000e-05\n",
      "Epoch 22/50\n",
      "\u001b[1m182/182\u001b[0m \u001b[32m━━━━━━━━━━━━━━━━━━━━\u001b[0m\u001b[37m\u001b[0m \u001b[1m213s\u001b[0m 1s/step - accuracy: 0.9579 - loss: 0.1031 - val_accuracy: 0.9283 - val_loss: 0.1891 - learning_rate: 4.0000e-05\n",
      "Epoch 23/50\n",
      "\u001b[1m182/182\u001b[0m \u001b[32m━━━━━━━━━━━━━━━━━━━━\u001b[0m\u001b[37m\u001b[0m \u001b[1m215s\u001b[0m 1s/step - accuracy: 0.9645 - loss: 0.0951 - val_accuracy: 0.9259 - val_loss: 0.2031 - learning_rate: 4.0000e-05\n",
      "Epoch 24/50\n",
      "\u001b[1m182/182\u001b[0m \u001b[32m━━━━━━━━━━━━━━━━━━━━\u001b[0m\u001b[37m\u001b[0m \u001b[1m214s\u001b[0m 1s/step - accuracy: 0.9647 - loss: 0.0962 - val_accuracy: 0.9251 - val_loss: 0.2264 - learning_rate: 4.0000e-05\n",
      "Epoch 25/50\n",
      "\u001b[1m182/182\u001b[0m \u001b[32m━━━━━━━━━━━━━━━━━━━━\u001b[0m\u001b[37m\u001b[0m \u001b[1m213s\u001b[0m 1s/step - accuracy: 0.9648 - loss: 0.0927 - val_accuracy: 0.9300 - val_loss: 0.2034 - learning_rate: 4.0000e-05\n",
      "Epoch 26/50\n",
      "\u001b[1m182/182\u001b[0m \u001b[32m━━━━━━━━━━━━━━━━━━━━\u001b[0m\u001b[37m\u001b[0m \u001b[1m213s\u001b[0m 1s/step - accuracy: 0.9622 - loss: 0.0988 - val_accuracy: 0.9348 - val_loss: 0.2112 - learning_rate: 4.0000e-05\n",
      "Epoch 27/50\n",
      "\u001b[1m182/182\u001b[0m \u001b[32m━━━━━━━━━━━━━━━━━━━━\u001b[0m\u001b[37m\u001b[0m \u001b[1m214s\u001b[0m 1s/step - accuracy: 0.9688 - loss: 0.0896 - val_accuracy: 0.9364 - val_loss: 0.1901 - learning_rate: 4.0000e-05\n",
      "Epoch 28/50\n",
      "\u001b[1m182/182\u001b[0m \u001b[32m━━━━━━━━━━━━━━━━━━━━\u001b[0m\u001b[37m\u001b[0m \u001b[1m217s\u001b[0m 1s/step - accuracy: 0.9682 - loss: 0.0913 - val_accuracy: 0.9372 - val_loss: 0.1911 - learning_rate: 8.0000e-06\n",
      "Epoch 29/50\n",
      "\u001b[1m182/182\u001b[0m \u001b[32m━━━━━━━━━━━━━━━━━━━━\u001b[0m\u001b[37m\u001b[0m \u001b[1m215s\u001b[0m 1s/step - accuracy: 0.9679 - loss: 0.0842 - val_accuracy: 0.9380 - val_loss: 0.1914 - learning_rate: 8.0000e-06\n",
      "Epoch 30/50\n",
      "\u001b[1m182/182\u001b[0m \u001b[32m━━━━━━━━━━━━━━━━━━━━\u001b[0m\u001b[37m\u001b[0m \u001b[1m212s\u001b[0m 1s/step - accuracy: 0.9734 - loss: 0.0785 - val_accuracy: 0.9340 - val_loss: 0.1904 - learning_rate: 8.0000e-06\n",
      "Epoch 31/50\n",
      "\u001b[1m182/182\u001b[0m \u001b[32m━━━━━━━━━━━━━━━━━━━━\u001b[0m\u001b[37m\u001b[0m \u001b[1m212s\u001b[0m 1s/step - accuracy: 0.9669 - loss: 0.0817 - val_accuracy: 0.9364 - val_loss: 0.1923 - learning_rate: 8.0000e-06\n",
      "Epoch 32/50\n",
      "\u001b[1m182/182\u001b[0m \u001b[32m━━━━━━━━━━━━━━━━━━━━\u001b[0m\u001b[37m\u001b[0m \u001b[1m212s\u001b[0m 1s/step - accuracy: 0.9727 - loss: 0.0806 - val_accuracy: 0.9340 - val_loss: 0.1979 - learning_rate: 8.0000e-06\n"
     ]
    }
   ],
   "source": [
    "cnn_model = build_basic_cnn_model(IMG_SHAPE, num_classes)\n",
    "cnn_history = cnn_model.fit(\n",
    "    X_train, y_train,\n",
    "    batch_size=32,\n",
    "    epochs=50,\n",
    "    validation_data=(X_val, y_val),\n",
    "    callbacks=get_callbacks(\"cnn_model\")\n",
    ")\n",
    "cnn_model.save(\"./Brain_Tumor_Classification_Models/final_cnn_model.keras\")\n"
   ]
  },
  {
   "cell_type": "markdown",
   "id": "092eef8e-c6c8-4f7c-95b2-60d7df3b5e67",
   "metadata": {},
   "source": [
    "## 5.4 Train Hybrid Model"
   ]
  },
  {
   "cell_type": "code",
   "execution_count": 4,
   "id": "0319c55e-dc6e-4215-ad80-57f27d29b4f2",
   "metadata": {},
   "outputs": [
    {
     "ename": "NameError",
     "evalue": "name 'build_hybrid_model' is not defined",
     "output_type": "error",
     "traceback": [
      "\u001b[1;31m---------------------------------------------------------------------------\u001b[0m",
      "\u001b[1;31mNameError\u001b[0m                                 Traceback (most recent call last)",
      "Cell \u001b[1;32mIn[4], line 1\u001b[0m\n\u001b[1;32m----> 1\u001b[0m hybrid_model \u001b[38;5;241m=\u001b[39m \u001b[43mbuild_hybrid_model\u001b[49m(IMG_SHAPE, num_classes)\n\u001b[0;32m      2\u001b[0m hybrid_history \u001b[38;5;241m=\u001b[39m hybrid_model\u001b[38;5;241m.\u001b[39mfit(\n\u001b[0;32m      3\u001b[0m     X_train, y_train,\n\u001b[0;32m      4\u001b[0m     batch_size\u001b[38;5;241m=\u001b[39m\u001b[38;5;241m16\u001b[39m,\n\u001b[1;32m   (...)\u001b[0m\n\u001b[0;32m      7\u001b[0m     callbacks\u001b[38;5;241m=\u001b[39mget_callbacks(\u001b[38;5;124m\"\u001b[39m\u001b[38;5;124mhybrid_model\u001b[39m\u001b[38;5;124m\"\u001b[39m)\n\u001b[0;32m      8\u001b[0m )\n\u001b[0;32m      9\u001b[0m hybrid_model\u001b[38;5;241m.\u001b[39msave(\u001b[38;5;124m\"\u001b[39m\u001b[38;5;124m./Brain_Tumor_Classification_Models/final_hybrid_model.keras\u001b[39m\u001b[38;5;124m\"\u001b[39m)\n",
      "\u001b[1;31mNameError\u001b[0m: name 'build_hybrid_model' is not defined"
     ]
    }
   ],
   "source": [
    "hybrid_model = build_hybrid_model(IMG_SHAPE, num_classes)\n",
    "hybrid_history = hybrid_model.fit(\n",
    "    X_train, y_train,\n",
    "    batch_size=16,\n",
    "    epochs=30,\n",
    "    validation_data=(X_val, y_val),\n",
    "    callbacks=get_callbacks(\"hybrid_model\")\n",
    ")\n",
    "hybrid_model.save(\"./Brain_Tumor_Classification_Models/final_hybrid_model.keras\")\n"
   ]
  },
  {
   "cell_type": "code",
   "execution_count": 10,
   "id": "e6235792-6c25-40c8-acfb-cff09baa4a44",
   "metadata": {},
   "outputs": [],
   "source": [
    "from tensorflow.keras.models import load_model\n",
    "\n",
    "model = load_model(\"Brain_Tumor_Classification_Models/hybrid_model_best.keras\")"
   ]
  },
  {
   "cell_type": "code",
   "execution_count": 11,
   "id": "4af13dfd-c47b-4b1c-a389-282a8d11c62b",
   "metadata": {},
   "outputs": [
    {
     "name": "stdout",
     "output_type": "stream",
     "text": [
      "Epoch 24/30\n",
      "\u001b[1m363/363\u001b[0m \u001b[32m━━━━━━━━━━━━━━━━━━━━\u001b[0m\u001b[37m\u001b[0m \u001b[1m2428s\u001b[0m 7s/step - accuracy: 0.9843 - loss: 0.0597 - val_accuracy: 0.9871 - val_loss: 0.0602 - learning_rate: 2.0000e-04\n",
      "Epoch 25/30\n",
      "\u001b[1m363/363\u001b[0m \u001b[32m━━━━━━━━━━━━━━━━━━━━\u001b[0m\u001b[37m\u001b[0m \u001b[1m2428s\u001b[0m 7s/step - accuracy: 0.9843 - loss: 0.0545 - val_accuracy: 0.9839 - val_loss: 0.0587 - learning_rate: 2.0000e-04\n",
      "Epoch 26/30\n",
      "\u001b[1m363/363\u001b[0m \u001b[32m━━━━━━━━━━━━━━━━━━━━\u001b[0m\u001b[37m\u001b[0m \u001b[1m2427s\u001b[0m 7s/step - accuracy: 0.9881 - loss: 0.0336 - val_accuracy: 0.9871 - val_loss: 0.0679 - learning_rate: 2.0000e-04\n",
      "Epoch 27/30\n",
      "\u001b[1m363/363\u001b[0m \u001b[32m━━━━━━━━━━━━━━━━━━━━\u001b[0m\u001b[37m\u001b[0m \u001b[1m2405s\u001b[0m 7s/step - accuracy: 0.9886 - loss: 0.0326 - val_accuracy: 0.9887 - val_loss: 0.0619 - learning_rate: 2.0000e-04\n",
      "Epoch 28/30\n",
      "\u001b[1m363/363\u001b[0m \u001b[32m━━━━━━━━━━━━━━━━━━━━\u001b[0m\u001b[37m\u001b[0m \u001b[1m2398s\u001b[0m 7s/step - accuracy: 0.9938 - loss: 0.0209 - val_accuracy: 0.9879 - val_loss: 0.0694 - learning_rate: 2.0000e-04\n",
      "Epoch 29/30\n",
      "\u001b[1m363/363\u001b[0m \u001b[32m━━━━━━━━━━━━━━━━━━━━\u001b[0m\u001b[37m\u001b[0m \u001b[1m2395s\u001b[0m 7s/step - accuracy: 0.9936 - loss: 0.0201 - val_accuracy: 0.9839 - val_loss: 0.0787 - learning_rate: 2.0000e-04\n",
      "Epoch 30/30\n",
      "\u001b[1m363/363\u001b[0m \u001b[32m━━━━━━━━━━━━━━━━━━━━\u001b[0m\u001b[37m\u001b[0m \u001b[1m2393s\u001b[0m 7s/step - accuracy: 0.9954 - loss: 0.0151 - val_accuracy: 0.9871 - val_loss: 0.0714 - learning_rate: 2.0000e-04\n"
     ]
    }
   ],
   "source": [
    "# Resume training from epoch 8 to 30\n",
    "history = model.fit(\n",
    "    X_train, y_train,\n",
    "    batch_size=16,\n",
    "    epochs=30,\n",
    "    initial_epoch=23,\n",
    "    validation_data=(X_val, y_val),\n",
    "    callbacks=get_callbacks(\"hybrid_model\")\n",
    ")\n",
    "\n",
    "# Save resumed final model\n",
    "model.save(\"./Brain_Tumor_Classification_Models/final_hybrid_model.keras\")"
   ]
  },
  {
   "cell_type": "code",
   "execution_count": 23,
   "id": "60580e6c-ea91-4217-8df5-6316e6d38edb",
   "metadata": {},
   "outputs": [
    {
     "name": "stdout",
     "output_type": "stream",
     "text": [
      "\n",
      "Evaluating models on test data:\n"
     ]
    }
   ],
   "source": [
    "# Evaluate both models on the test set\n",
    "print(\"\\nEvaluating models on test data:\")"
   ]
  },
  {
   "cell_type": "code",
   "execution_count": 26,
   "id": "ef173ce0-dfa3-4934-b515-efeb4fbb75a7",
   "metadata": {},
   "outputs": [
    {
     "ename": "NameError",
     "evalue": "name 'Final_cnn_model' is not defined",
     "output_type": "error",
     "traceback": [
      "\u001b[1;31m---------------------------------------------------------------------------\u001b[0m",
      "\u001b[1;31mNameError\u001b[0m                                 Traceback (most recent call last)",
      "Cell \u001b[1;32mIn[26], line 2\u001b[0m\n\u001b[0;32m      1\u001b[0m \u001b[38;5;66;03m# CNN model evaluation\u001b[39;00m\n\u001b[1;32m----> 2\u001b[0m cnn_loss, cnn_accuracy \u001b[38;5;241m=\u001b[39m \u001b[43mFinal_cnn_model\u001b[49m\u001b[38;5;241m.\u001b[39mevaluate(X_test, y_test)\n\u001b[0;32m      3\u001b[0m \u001b[38;5;28mprint\u001b[39m(\u001b[38;5;124mf\u001b[39m\u001b[38;5;124m\"\u001b[39m\u001b[38;5;124mCNN Test Loss: \u001b[39m\u001b[38;5;132;01m{\u001b[39;00mcnn_loss\u001b[38;5;132;01m:\u001b[39;00m\u001b[38;5;124m.4f\u001b[39m\u001b[38;5;132;01m}\u001b[39;00m\u001b[38;5;124m\"\u001b[39m)\n\u001b[0;32m      4\u001b[0m \u001b[38;5;28mprint\u001b[39m(\u001b[38;5;124mf\u001b[39m\u001b[38;5;124m\"\u001b[39m\u001b[38;5;124mCNN Test Accuracy: \u001b[39m\u001b[38;5;132;01m{\u001b[39;00mcnn_accuracy\u001b[38;5;132;01m:\u001b[39;00m\u001b[38;5;124m.4f\u001b[39m\u001b[38;5;132;01m}\u001b[39;00m\u001b[38;5;124m\"\u001b[39m)\n",
      "\u001b[1;31mNameError\u001b[0m: name 'Final_cnn_model' is not defined"
     ]
    }
   ],
   "source": [
    " # CNN model evaluation\n",
    "cnn_loss, cnn_accuracy = Final_cnn_model.evaluate(X_test, y_test)\n",
    "print(f\"CNN Test Loss: {cnn_loss:.4f}\")\n",
    "print(f\"CNN Test Accuracy: {cnn_accuracy:.4f}\")"
   ]
  },
  {
   "cell_type": "code",
   "execution_count": 30,
   "id": "ef06a390-6a25-47d3-9b65-e134b9a67338",
   "metadata": {},
   "outputs": [
    {
     "name": "stdout",
     "output_type": "stream",
     "text": [
      "\n",
      "Loading pretrained models...\n",
      "\n",
      "Evaluating models on test data:\n",
      "\u001b[1m39/39\u001b[0m \u001b[32m━━━━━━━━━━━━━━━━━━━━\u001b[0m\u001b[37m\u001b[0m \u001b[1m12s\u001b[0m 264ms/step - accuracy: 0.9738 - loss: 0.0903\n",
      "CNN Test Loss: 0.0915\n",
      "CNN Test Accuracy: 0.9726\n",
      "\u001b[1m39/39\u001b[0m \u001b[32m━━━━━━━━━━━━━━━━━━━━\u001b[0m\u001b[37m\u001b[0m \u001b[1m394s\u001b[0m 10s/step - accuracy: 0.9839 - loss: 0.0355\n",
      "Hybrid Test Loss: 0.0342\n",
      "Hybrid Test Accuracy: 0.9847\n",
      "\u001b[1m39/39\u001b[0m \u001b[32m━━━━━━━━━━━━━━━━━━━━\u001b[0m\u001b[37m\u001b[0m \u001b[1m11s\u001b[0m 277ms/step\n",
      "\u001b[1m39/39\u001b[0m \u001b[32m━━━━━━━━━━━━━━━━━━━━\u001b[0m\u001b[37m\u001b[0m \u001b[1m394s\u001b[0m 10s/step\n",
      "CNN F1 Score: 0.9725\n",
      "Hybrid F1 Score: 0.9847\n",
      "\n",
      "CNN Model Confusion Matrix:\n"
     ]
    },
    {
     "data": {
      "image/png": "[encoded data removed]",
      "text/plain": [
       "<Figure size 640x480 with 2 Axes>"
      ]
     },
     "metadata": {},
     "output_type": "display_data"
    },
    {
     "name": "stdout",
     "output_type": "stream",
     "text": [
      "\n",
      "Hybrid Model Confusion Matrix:\n"
     ]
    },
    {
     "data": {
      "image/png": "[encoded data removed]",
      "text/plain": [
       "<Figure size 640x480 with 2 Axes>"
      ]
     },
     "metadata": {},
     "output_type": "display_data"
    }
   ],
   "source": [
    "from tensorflow.keras.models import load_model\n",
    "import numpy as np\n",
    "from sklearn.metrics import f1_score, confusion_matrix, ConfusionMatrixDisplay\n",
    "import matplotlib.pyplot as plt\n",
    "\n",
    "# Custom F1 score computation function\n",
    "def compute_f1_score(y_true, y_pred):\n",
    "    y_true_labels = np.argmax(y_true, axis=1)\n",
    "    y_pred_labels = np.argmax(y_pred, axis=1)\n",
    "    return f1_score(y_true_labels, y_pred_labels, average='weighted')\n",
    "\n",
    "# Plot confusion matrix\n",
    "def plot_confusion_matrix(y_true, y_pred, class_names):\n",
    "    y_true_labels = np.argmax(y_true, axis=1)\n",
    "    y_pred_labels = np.argmax(y_pred, axis=1)\n",
    "    cm = confusion_matrix(y_true_labels, y_pred_labels)\n",
    "    disp = ConfusionMatrixDisplay(confusion_matrix=cm, display_labels=class_names)\n",
    "    disp.plot(cmap=plt.cm.Blues)\n",
    "    plt.show()\n",
    "\n",
    "def main():\n",
    "    # === Load test data and class info ===\n",
    "    # Ensure these are already defined in your code or load from saved files\n",
    "    # X_test: test images\n",
    "    # y_test: test labels (one-hot encoded or categorical)\n",
    "    # class_names: list of class names like ['glioma', 'meningioma', ...]\n",
    "    # num_classes: number of output classes\n",
    "\n",
    "    # Example placeholders (replace with actual data loading)\n",
    "    # X_test = np.load(\"X_test.npy\")\n",
    "    # y_test = np.load(\"y_test.npy\")\n",
    "    # class_names = ['glioma', 'meningioma', 'no_tumor', 'pituitary']\n",
    "    # num_classes = len(class_names)\n",
    "\n",
    "    print(\"\\nLoading pretrained models...\")\n",
    "\n",
    "    # === Load pretrained models ===\n",
    "    cnn_model = load_model('Brain_Tumor_Classification_Models/final_cnn_model.keras')\n",
    "    hybrid_model = load_model('Brain_Tumor_Classification_Models/final_hybrid_model.keras')\n",
    "\n",
    "    print(\"\\nEvaluating models on test data:\")\n",
    "\n",
    "    # === CNN model evaluation ===\n",
    "    cnn_loss, cnn_accuracy = cnn_model.evaluate(X_test, y_test)\n",
    "    print(f\"CNN Test Loss: {cnn_loss:.4f}\")\n",
    "    print(f\"CNN Test Accuracy: {cnn_accuracy:.4f}\")\n",
    "\n",
    "    # === Hybrid model evaluation ===\n",
    "    hybrid_loss, hybrid_accuracy = hybrid_model.evaluate(X_test, y_test)\n",
    "    print(f\"Hybrid Test Loss: {hybrid_loss:.4f}\")\n",
    "    print(f\"Hybrid Test Accuracy: {hybrid_accuracy:.4f}\")\n",
    "\n",
    "    # === Predictions ===\n",
    "    cnn_pred = cnn_model.predict(X_test)\n",
    "    hybrid_pred = hybrid_model.predict(X_test)\n",
    "\n",
    "    # === F1 Scores ===\n",
    "    cnn_f1 = compute_f1_score(y_test, cnn_pred)\n",
    "    hybrid_f1 = compute_f1_score(y_test, hybrid_pred)\n",
    "\n",
    "    print(f\"CNN F1 Score: {cnn_f1:.4f}\")\n",
    "    print(f\"Hybrid F1 Score: {hybrid_f1:.4f}\")\n",
    "\n",
    "    # === Confusion Matrices ===\n",
    "    print(\"\\nCNN Model Confusion Matrix:\")\n",
    "    plot_confusion_matrix(y_test, cnn_pred, class_names)\n",
    "\n",
    "    print(\"\\nHybrid Model Confusion Matrix:\")\n",
    "    plot_confusion_matrix(y_test, hybrid_pred, class_names)\n",
    "\n",
    "    # === Summary Report ===\n",
    "    with open(\"./Brain_Tumor_Classification_Models/model_performance_summary.txt\", \"w\") as f:\n",
    "        f.write(\"=== Brain Tumor Classification Model Performance ===\\n\\n\")\n",
    "        f.write(f\"Number of classes: {num_classes}\\n\")\n",
    "        f.write(f\"Classes: {', '.join(class_names)}\\n\\n\")\n",
    "\n",
    "        f.write(\"=== CNN Model ===\\n\")\n",
    "        f.write(f\"Test Accuracy: {cnn_accuracy:.4f}\\n\")\n",
    "        f.write(f\"Test Loss: {cnn_loss:.4f}\\n\")\n",
    "        f.write(f\"F1 Score: {cnn_f1:.4f}\\n\\n\")\n",
    "\n",
    "        f.write(\"=== Hybrid Model ===\\n\")\n",
    "        f.write(f\"Test Accuracy: {hybrid_accuracy:.4f}\\n\")\n",
    "        f.write(f\"Test Loss: {hybrid_loss:.4f}\\n\")\n",
    "        f.write(f\"F1 Score: {hybrid_f1:.4f}\\n\")\n",
    "\n",
    "if __name__ == \"__main__\":\n",
    "    main()\n"
   ]
  },
  {
   "cell_type": "code",
   "execution_count": null,
   "id": "9724e9de-062b-4d82-a1fe-2fae88653aa8",
   "metadata": {},
   "outputs": [],
   "source": [
    "!streamlit run \"streamlitapp.py\""
   ]
  },
  {
   "cell_type": "code",
   "execution_count": null,
   "id": "ab66faac-c6e6-480e-a0bd-87227f3e3902",
   "metadata": {},
   "outputs": [],
   "source": []
  }
 ],
 "metadata": {
  "kernelspec": {
   "display_name": "Python 3 (ipykernel)",
   "language": "python",
   "name": "python3"
  },
  "language_info": {
   "codemirror_mode": {
    "name": "ipython",
    "version": 3
   },
   "file_extension": ".py",
   "mimetype": "text/x-python",
   "name": "python",
   "nbconvert_exporter": "python",
   "pygments_lexer": "ipython3",
   "version": "3.11.9"
  }
 },
 "nbformat": 4,
 "nbformat_minor": 5
}
